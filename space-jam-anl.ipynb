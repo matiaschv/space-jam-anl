{
 "metadata": {
  "language_info": {
   "codemirror_mode": {
    "name": "ipython",
    "version": 3
   },
   "file_extension": ".py",
   "mimetype": "text/x-python",
   "name": "python",
   "nbconvert_exporter": "python",
   "pygments_lexer": "ipython3",
   "version": "3.9.4"
  },
  "orig_nbformat": 4,
  "kernelspec": {
   "name": "python3",
   "display_name": "Python 3.9.4 64-bit"
  },
  "interpreter": {
   "hash": "3fa0820663bf4943cd08dec38c270e2708853ebb8e0822dcfaa36f9943a8cf3e"
  }
 },
 "nbformat": 4,
 "nbformat_minor": 2,
 "cells": [
  {
   "source": [
    "| Column name | Description |\n",
    "| -- | -- |\n",
    "| ID | Unique identifier for each player in the dataset |\n",
    "| points | Total points scored by a player in a season |\n",
    "| possessions | Total possessions by a player in a season |\n",
    "| team_pace | Average number of possessions a team uses per game |\n",
    "| Unnamed | 4\tUnknown data |\n",
    "| Unnamed | 5\tUnknown data |\n",
    "| GP | Games played by a player in a season |\n",
    "| MPG | Average minutes played by a player per game |\n",
    "| TS% | True shooting percentage, the player's shooting percentage, taking into account free throws and three-pointers |\n",
    "| AST | Assist ratio, the percentage of a player's possessions that end in an assist |\n",
    "| TO | Turnover ratio, the percentage of a player's possessions that end in a turnover |\n",
    "| USG | Usage rate, the number of possessions a player uses per 40 minutes |\n",
    "| ORR | Offensive rebound rate |\n",
    "| DRR | Defensive rebound rate |\n",
    "| REBR | Rebound rate, the percentage of missed shots that a player rebounds |\n",
    "| PER | Player efficiency rating, the measure of a player's per-minute productivity on the court |"
   ],
   "cell_type": "markdown",
   "metadata": {}
  },
  {
   "cell_type": "code",
   "execution_count": 1,
   "metadata": {},
   "outputs": [],
   "source": [
    "import pandas as pd"
   ]
  },
  {
   "cell_type": "code",
   "execution_count": 3,
   "metadata": {},
   "outputs": [],
   "source": [
    "# Import data from the CSV file to a pandas DataFrame.\n",
    "player_df = pd.read_csv('player_data.csv')"
   ]
  },
  {
   "cell_type": "code",
   "execution_count": 5,
   "metadata": {},
   "outputs": [
    {
     "output_type": "execute_result",
     "data": {
      "text/plain": [
       "   ID  points  possessions  team_pace  Unnamed: 4  Unnamed: 5    GP   MPG  \\\n",
       "0   1  1893.0       1251.8       97.8         NaN         NaN  63.0  33.9   \n",
       "1   2  1386.0       1282.5      110.5         NaN         NaN  58.0  32.5   \n",
       "2   3  1405.0       1252.3      105.8         NaN         NaN  55.0  36.3   \n",
       "3   4  1282.0       1235.9      100.7         NaN         NaN  54.0  37.6   \n",
       "4   5  1721.0       1254.0      105.7         NaN         NaN  59.0  30.5   \n",
       "\n",
       "     TS%   AST    TO   USG  ORR   DRR  REBR    PER  \n",
       "0  0.569  17.2  11.5  26.1  4.7  23.3   7.8  10.90  \n",
       "1  0.511  24.8   9.7  26.9  6.1   0.9  10.7  27.30  \n",
       "2  0.605  25.7  13.9  28.1  4.5   4.9   1.8    NaN  \n",
       "3  0.636  29.5  11.0  22.3  4.8   4.6   5.6  22.35  \n",
       "4  0.589  22.8   9.9  24.6  1.2   8.4  12.1  28.38  "
      ],
      "text/html": "<div>\n<style scoped>\n    .dataframe tbody tr th:only-of-type {\n        vertical-align: middle;\n    }\n\n    .dataframe tbody tr th {\n        vertical-align: top;\n    }\n\n    .dataframe thead th {\n        text-align: right;\n    }\n</style>\n<table border=\"1\" class=\"dataframe\">\n  <thead>\n    <tr style=\"text-align: right;\">\n      <th></th>\n      <th>ID</th>\n      <th>points</th>\n      <th>possessions</th>\n      <th>team_pace</th>\n      <th>Unnamed: 4</th>\n      <th>Unnamed: 5</th>\n      <th>GP</th>\n      <th>MPG</th>\n      <th>TS%</th>\n      <th>AST</th>\n      <th>TO</th>\n      <th>USG</th>\n      <th>ORR</th>\n      <th>DRR</th>\n      <th>REBR</th>\n      <th>PER</th>\n    </tr>\n  </thead>\n  <tbody>\n    <tr>\n      <th>0</th>\n      <td>1</td>\n      <td>1893.0</td>\n      <td>1251.8</td>\n      <td>97.8</td>\n      <td>NaN</td>\n      <td>NaN</td>\n      <td>63.0</td>\n      <td>33.9</td>\n      <td>0.569</td>\n      <td>17.2</td>\n      <td>11.5</td>\n      <td>26.1</td>\n      <td>4.7</td>\n      <td>23.3</td>\n      <td>7.8</td>\n      <td>10.90</td>\n    </tr>\n    <tr>\n      <th>1</th>\n      <td>2</td>\n      <td>1386.0</td>\n      <td>1282.5</td>\n      <td>110.5</td>\n      <td>NaN</td>\n      <td>NaN</td>\n      <td>58.0</td>\n      <td>32.5</td>\n      <td>0.511</td>\n      <td>24.8</td>\n      <td>9.7</td>\n      <td>26.9</td>\n      <td>6.1</td>\n      <td>0.9</td>\n      <td>10.7</td>\n      <td>27.30</td>\n    </tr>\n    <tr>\n      <th>2</th>\n      <td>3</td>\n      <td>1405.0</td>\n      <td>1252.3</td>\n      <td>105.8</td>\n      <td>NaN</td>\n      <td>NaN</td>\n      <td>55.0</td>\n      <td>36.3</td>\n      <td>0.605</td>\n      <td>25.7</td>\n      <td>13.9</td>\n      <td>28.1</td>\n      <td>4.5</td>\n      <td>4.9</td>\n      <td>1.8</td>\n      <td>NaN</td>\n    </tr>\n    <tr>\n      <th>3</th>\n      <td>4</td>\n      <td>1282.0</td>\n      <td>1235.9</td>\n      <td>100.7</td>\n      <td>NaN</td>\n      <td>NaN</td>\n      <td>54.0</td>\n      <td>37.6</td>\n      <td>0.636</td>\n      <td>29.5</td>\n      <td>11.0</td>\n      <td>22.3</td>\n      <td>4.8</td>\n      <td>4.6</td>\n      <td>5.6</td>\n      <td>22.35</td>\n    </tr>\n    <tr>\n      <th>4</th>\n      <td>5</td>\n      <td>1721.0</td>\n      <td>1254.0</td>\n      <td>105.7</td>\n      <td>NaN</td>\n      <td>NaN</td>\n      <td>59.0</td>\n      <td>30.5</td>\n      <td>0.589</td>\n      <td>22.8</td>\n      <td>9.9</td>\n      <td>24.6</td>\n      <td>1.2</td>\n      <td>8.4</td>\n      <td>12.1</td>\n      <td>28.38</td>\n    </tr>\n  </tbody>\n</table>\n</div>"
     },
     "metadata": {},
     "execution_count": 5
    }
   ],
   "source": [
    "# print data head\n",
    "player_df.head()"
   ]
  },
  {
   "cell_type": "code",
   "execution_count": 13,
   "metadata": {},
   "outputs": [
    {
     "output_type": "execute_result",
     "data": {
      "text/plain": [
       "ID              0\n",
       "points          3\n",
       "possessions     3\n",
       "team_pace       3\n",
       "Unnamed: 4     46\n",
       "Unnamed: 5     46\n",
       "GP              7\n",
       "MPG             6\n",
       "TS%             1\n",
       "AST             1\n",
       "TO              1\n",
       "USG             1\n",
       "ORR             1\n",
       "DRR             1\n",
       "REBR            1\n",
       "PER            10\n",
       "dtype: int64"
      ]
     },
     "metadata": {},
     "execution_count": 13
    }
   ],
   "source": [
    "# Total NaN\n",
    "player_df.isna().sum()"
   ]
  },
  {
   "cell_type": "code",
   "execution_count": 14,
   "metadata": {},
   "outputs": [
    {
     "output_type": "stream",
     "name": "stdout",
     "text": [
      "<class 'pandas.core.frame.DataFrame'>\nRangeIndex: 46 entries, 0 to 45\nData columns (total 16 columns):\n #   Column       Non-Null Count  Dtype  \n---  ------       --------------  -----  \n 0   ID           46 non-null     int64  \n 1   points       43 non-null     float64\n 2   possessions  43 non-null     float64\n 3   team_pace    43 non-null     float64\n 4   Unnamed: 4   0 non-null      float64\n 5   Unnamed: 5   0 non-null      float64\n 6   GP           39 non-null     float64\n 7   MPG          40 non-null     float64\n 8   TS%          45 non-null     float64\n 9   AST          45 non-null     float64\n 10  TO           45 non-null     float64\n 11  USG          45 non-null     float64\n 12  ORR          45 non-null     float64\n 13  DRR          45 non-null     float64\n 14  REBR         45 non-null     float64\n 15  PER          36 non-null     float64\ndtypes: float64(15), int64(1)\nmemory usage: 5.9 KB\n"
     ]
    }
   ],
   "source": [
    "# Information about dataframe\n",
    "player_df.info()"
   ]
  },
  {
   "cell_type": "code",
   "execution_count": 16,
   "metadata": {},
   "outputs": [
    {
     "output_type": "execute_result",
     "data": {
      "text/plain": [
       "ID              0\n",
       "points          3\n",
       "possessions     3\n",
       "team_pace       3\n",
       "GP              7\n",
       "MPG             6\n",
       "TS%             1\n",
       "AST             1\n",
       "TO              1\n",
       "USG             1\n",
       "ORR             1\n",
       "DRR             1\n",
       "REBR            1\n",
       "PER            10\n",
       "dtype: int64"
      ]
     },
     "metadata": {},
     "execution_count": 16
    }
   ],
   "source": [
    "# Drop columns that have no values\n",
    "player_df.dropna(axis='columns',inplace=True, how='all')\n",
    "player_df.isna().sum()"
   ]
  },
  {
   "cell_type": "code",
   "execution_count": 17,
   "metadata": {},
   "outputs": [
    {
     "output_type": "stream",
     "name": "stdout",
     "text": [
      "<class 'pandas.core.frame.DataFrame'>\nRangeIndex: 46 entries, 0 to 45\nData columns (total 14 columns):\n #   Column       Non-Null Count  Dtype  \n---  ------       --------------  -----  \n 0   ID           46 non-null     int64  \n 1   points       43 non-null     float64\n 2   possessions  43 non-null     float64\n 3   team_pace    43 non-null     float64\n 4   GP           39 non-null     float64\n 5   MPG          40 non-null     float64\n 6   TS%          45 non-null     float64\n 7   AST          45 non-null     float64\n 8   TO           45 non-null     float64\n 9   USG          45 non-null     float64\n 10  ORR          45 non-null     float64\n 11  DRR          45 non-null     float64\n 12  REBR         45 non-null     float64\n 13  PER          36 non-null     float64\ndtypes: float64(13), int64(1)\nmemory usage: 5.2 KB\n"
     ]
    }
   ],
   "source": [
    "player_df.info()"
   ]
  },
  {
   "cell_type": "code",
   "execution_count": 18,
   "metadata": {},
   "outputs": [
    {
     "output_type": "execute_result",
     "data": {
      "text/plain": [
       "ID              0\n",
       "points          3\n",
       "possessions     3\n",
       "team_pace       3\n",
       "GP              7\n",
       "MPG             6\n",
       "TS%             1\n",
       "AST             1\n",
       "TO              1\n",
       "USG             1\n",
       "ORR             1\n",
       "DRR             1\n",
       "REBR            1\n",
       "PER            10\n",
       "dtype: int64"
      ]
     },
     "metadata": {},
     "execution_count": 18
    }
   ],
   "source": [
    "# Drop rows that have no values\n",
    "player_df.dropna(inplace=True,how='all')\n",
    "player_df.isna().sum()"
   ]
  },
  {
   "cell_type": "code",
   "execution_count": null,
   "metadata": {},
   "outputs": [],
   "source": [
    "# Know that no row has all NaN values"
   ]
  }
 ]
}